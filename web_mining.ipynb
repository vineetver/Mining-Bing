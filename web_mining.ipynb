{
 "cells": [
  {
   "cell_type": "markdown",
   "id": "8ed8f174",
   "metadata": {},
   "source": [
    "# Data Mining (Bing News)"
   ]
  },
  {
   "cell_type": "markdown",
   "id": "d2af1510",
   "metadata": {},
   "source": [
    "### Required Packages"
   ]
  },
  {
   "cell_type": "code",
   "execution_count": 1,
   "id": "7ca0caa7",
   "metadata": {},
   "outputs": [],
   "source": [
    "#!pip install selenium\n",
    "#!pip install beautfulsoup\n",
    "#!pip install webdriver_manager\n",
    "#!pip install pandas\n",
    "#!pip install numpy\n",
    "#!pip install matplotlib"
   ]
  },
  {
   "cell_type": "code",
   "execution_count": 2,
   "id": "3583a79d",
   "metadata": {},
   "outputs": [],
   "source": [
    "from bs4 import BeautifulSoup\n",
    "from selenium import webdriver\n",
    "from selenium.webdriver.common.keys import Keys\n",
    "from selenium.webdriver.chrome.service import Service\n",
    "from webdriver_manager.chrome import ChromeDriverManager\n",
    "import re, csv\n",
    "import time\n",
    "from urllib.request import Request, urlopen\n",
    "import pandas as pd\n",
    "import matplotlib.pyplot as plt\n",
    "import numpy as np"
   ]
  },
  {
   "cell_type": "markdown",
   "id": "84d40ce1",
   "metadata": {},
   "source": [
    "### Metadata for crawler"
   ]
  },
  {
   "cell_type": "code",
   "execution_count": 3,
   "id": "90c9ed1b",
   "metadata": {},
   "outputs": [],
   "source": [
    "HEADERS = {\n",
    "    \"User-Agent\":\n",
    "    \"Mozilla/5.0 (Macintosh; Intel Mac OS X 10_13_6) AppleWebKit/605.1.15 (KHTML, like Gecko) Version/13.0.5 Safari/605.1.15\"\n",
    "}\n",
    "\n",
    "\"\"\"\n",
    "Change the query to search for different keywords\n",
    "\"\"\"\n",
    "NEWS_URL = 'https://www.bing.com/news/search?q=omnicron+booster/'"
   ]
  },
  {
   "cell_type": "markdown",
   "id": "ab14feb8",
   "metadata": {},
   "source": [
    "### Crawler"
   ]
  },
  {
   "cell_type": "code",
   "execution_count": 4,
   "id": "82c07b6e",
   "metadata": {},
   "outputs": [
    {
     "name": "stderr",
     "output_type": "stream",
     "text": [
      "\n",
      "\n",
      "====== WebDriver manager ======\n",
      "Current google-chrome version is 99.0.4844\n",
      "Get LATEST chromedriver version for 99.0.4844 google-chrome\n",
      "There is no [win32] chromedriver for browser  in cache\n",
      "Trying to download new driver from https://chromedriver.storage.googleapis.com/99.0.4844.51/chromedriver_win32.zip\n",
      "Driver has been saved in cache [C:\\Users\\vinee\\.wdm\\drivers\\chromedriver\\win32\\99.0.4844.51]\n"
     ]
    },
    {
     "name": "stdout",
     "output_type": "stream",
     "text": [
      "158\n"
     ]
    }
   ],
   "source": [
    "def receive_html(url):\n",
    "    \"\"\"\n",
    "    This function receives the html from the url, scrolls down the page and returns the html\n",
    "    ----\n",
    "    Parameters:\n",
    "        url (string): The url to be scraped\n",
    "    Returns:\n",
    "        html (string): The html of the url\n",
    "    \"\"\"\n",
    "    \n",
    "    request = Request(url, headers=HEADERS)\n",
    "    response = urlopen(request).read()\n",
    "\n",
    "    driver = webdriver.Chrome(service=Service(ChromeDriverManager().install()))\n",
    "    driver.get(url)\n",
    "    \n",
    "    \n",
    "    ## Scroll down to the end.\n",
    "    \n",
    "    driver.execute_script(\"window.scrollTo(0, document.body.scrollHeight);\")\n",
    "    height = driver.execute_script(\"return document.body.scrollHeight\")\n",
    "\n",
    "    while True:\n",
    "        driver.execute_script(\"window.scrollTo(0, document.body.scrollHeight);\")\n",
    "        time.sleep(3)\n",
    "        new_height = driver.execute_script(\"return document.body.scrollHeight\")\n",
    "        if new_height == height:     \n",
    "            break\n",
    "        height = new_height\n",
    "        \n",
    "    ## return html \n",
    "\n",
    "    return driver.page_source\n",
    "\n",
    "def html_parser(html):\n",
    "    \"\"\"\n",
    "    This function parses the html and extracts the title and url of the articles\n",
    "    ----\n",
    "    Parameters:\n",
    "        html (string): The html of the url\n",
    "    Returns:\n",
    "        articles (list): The titles of the articles\n",
    "    \"\"\"\n",
    "    \n",
    "    soup = BeautifulSoup(html, \"html.parser\")\n",
    "    soup.prettify()\n",
    "\n",
    "    Titles = []\n",
    "    \n",
    "    for result in soup.select(\".card-with-cluster\"):\n",
    "        \"\"\"\n",
    "        This loop extracts the title and url of the articles\n",
    "        Modify the selectors to extract different information\n",
    "        \"\"\"\n",
    "        title = result.select_one(\".title\").text\n",
    "        Titles.append(title)\n",
    "        \n",
    "    print(len(Titles))\n",
    "    \n",
    "    return Titles\n",
    "\n",
    "def save_results(articles):\n",
    "    \"\"\"\n",
    "    This function saves the results in a csv file\n",
    "    ----\n",
    "    Parameters:\n",
    "        articles (list): The titles of the articles\n",
    "    \"\"\"\n",
    "    df = pd.DataFrame({'Title': articles})\n",
    "    df.to_csv('data.csv')\n",
    "        \n",
    "def main():\n",
    "    \"\"\"\n",
    "    This function calls the functions to scrape the data and save the results\n",
    "    \"\"\"\n",
    "    html = receive_html(NEWS_URL)\n",
    "    articles = html_parser(html)\n",
    "    save_results(articles)\n",
    "\n",
    "if __name__ == '__main__':\n",
    "    main()"
   ]
  },
  {
   "cell_type": "markdown",
   "id": "8bbe2c5b",
   "metadata": {},
   "source": [
    "### Visualization"
   ]
  },
  {
   "cell_type": "code",
   "execution_count": 5,
   "id": "1303179e",
   "metadata": {},
   "outputs": [],
   "source": [
    "df = pd.read_csv('data.csv')\n",
    "df.drop(\"Unnamed: 0\", axis=1, inplace=True)\n",
    "df = df[:50]"
   ]
  },
  {
   "cell_type": "code",
   "execution_count": 6,
   "id": "bdb55783",
   "metadata": {},
   "outputs": [],
   "source": [
    "side_effect = df.loc[df['Title'].str.contains('side effect', flags=re.IGNORECASE)]\n",
    "omicron = df.loc[df['Title'].str.contains('Omicron', flags=re.IGNORECASE)]\n",
    "booster = df.loc[df['Title'].str.contains('Booster', flags=re.IGNORECASE)]\n",
    "vaccine = df.loc[df['Title'].str.contains('Vaccine', flags=re.IGNORECASE)]"
   ]
  },
  {
   "cell_type": "code",
   "execution_count": 7,
   "id": "9ba04872",
   "metadata": {},
   "outputs": [
    {
     "data": {
      "image/png": "[encoded data removed]",
      "text/plain": [
       "<Figure size 432x288 with 1 Axes>"
      ]
     },
     "metadata": {
      "needs_background": "light"
     },
     "output_type": "display_data"
    }
   ],
   "source": [
    "freq = np.array([len(side_effect), len(omicron), len(booster), len(vaccine)])\n",
    "\n",
    "plt.bar(range(4), height=freq, tick_label=['Side Effect', 'Omnicron', 'Booster', 'Vaccine'])\n",
    "plt.ylabel('Frequency')\n",
    "plt.show()"
   ]
  }
 ],
 "metadata": {
  "kernelspec": {
   "display_name": "Python 3",
   "language": "python",
   "name": "python3"
  },
  "language_info": {
   "codemirror_mode": {
    "name": "ipython",
    "version": 3
   },
   "file_extension": ".py",
   "mimetype": "text/x-python",
   "name": "python",
   "nbconvert_exporter": "python",
   "pygments_lexer": "ipython3",
   "version": "3.8.12"
  }
 },
 "nbformat": 4,
 "nbformat_minor": 5
}
